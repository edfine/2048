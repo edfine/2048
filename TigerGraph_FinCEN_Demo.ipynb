{
  "nbformat": 4,
  "nbformat_minor": 0,
  "metadata": {
    "colab": {
      "name": "TigerGraph_FinCEN_Demo",
      "provenance": [],
      "collapsed_sections": [],
      "include_colab_link": true
    },
    "kernelspec": {
      "name": "python3",
      "display_name": "Python 3"
    }
  },
  "cells": [
    {
      "cell_type": "markdown",
      "metadata": {
        "id": "view-in-github",
        "colab_type": "text"
      },
      "source": [
        "<a href=\"https://colab.research.google.com/github/edfine/2048/blob/master/TigerGraph_FinCEN_Demo.ipynb\" target=\"_parent\"><img src=\"https://colab.research.google.com/assets/colab-badge.svg\" alt=\"Open In Colab\"/></a>"
      ]
    },
    {
      "cell_type": "markdown",
      "metadata": {
        "id": "jpIfXmbjCc9G"
      },
      "source": [
        "# TigerGraph FinCEN Demo\n",
        "\n",
        "To Get Started you will need an instance of TigerGraph running. The fastest way to get a box running is using https://tgcloud.io. If it's your first time using the cloud portal checkout [**Getting Started with TigerGrapoh 3.0**](https://www.tigergraph.com/blog/getting-started-with-tigergraph-3-0/)\n",
        "\n",
        ">**Note:** This notebook will work if you have an existing solution, by creating a new graph, but it's suggested that you have a blank instance. At the bottom of the notebook you will see a commented out cell that will allow you to clear your existing solution. Use that command wisely as it deletes everything on your existing solution. \n"
      ]
    },
    {
      "cell_type": "markdown",
      "metadata": {
        "id": "IemCki2KDDH4"
      },
      "source": [
        "\n",
        "## Setting Up Enviornment"
      ]
    },
    {
      "cell_type": "markdown",
      "metadata": {
        "id": "1Thn3Tp3vfrI"
      },
      "source": [
        "### Grab and Import Packages"
      ]
    },
    {
      "cell_type": "code",
      "metadata": {
        "id": "gLfGLjW26zVl"
      },
      "source": [
        "# FETCH PACKAGES\n",
        "!pip install pyTigerGraphBeta\n",
        "!pip install dateparser\n",
        "import pyTigerGraphBeta as tg\n",
        "import dateparser\n",
        "import pandas as pd"
      ],
      "execution_count": null,
      "outputs": []
    },
    {
      "cell_type": "markdown",
      "metadata": {
        "id": "HqiLZEVnvnD7"
      },
      "source": [
        "### Setup Connection to TigerGraph"
      ]
    },
    {
      "cell_type": "code",
      "metadata": {
        "id": "67vQSggz7KdE"
      },
      "source": [
        "# SETUP TIGERGRAPH CONNECTION\n",
        "conn = tg.TigerGraphConnection(host=\"https://fincen.i.tgcloud.io\", username=\"tigergraph\", password=\"tigergraph\")"
      ],
      "execution_count": null,
      "outputs": []
    },
    {
      "cell_type": "markdown",
      "metadata": {
        "id": "S18YKxo8vX_5"
      },
      "source": [
        "### Fetch Data From GitHub Repo"
      ]
    },
    {
      "cell_type": "code",
      "metadata": {
        "id": "0HENq8d47TNG",
        "colab": {
          "base_uri": "https://localhost:8080/"
        },
        "outputId": "b8782a32-77b2-4b72-c213-6d799b06caf7"
      },
      "source": [
        "# GRAB DATA FILES \n",
        "!git clone https://github.com/HerkTG/finsec.git"
      ],
      "execution_count": null,
      "outputs": [
        {
          "output_type": "stream",
          "text": [
            "Cloning into 'finsec'...\n",
            "remote: Enumerating objects: 16, done.\u001b[K\n",
            "remote: Counting objects: 100% (16/16), done.\u001b[K\n",
            "remote: Compressing objects: 100% (14/14), done.\u001b[K\n",
            "remote: Total 16 (delta 4), reused 0 (delta 0), pack-reused 0\u001b[K\n",
            "Unpacking objects: 100% (16/16), done.\n"
          ],
          "name": "stdout"
        }
      ]
    },
    {
      "cell_type": "markdown",
      "metadata": {
        "id": "OJN5i_4RCrSh"
      },
      "source": [
        "### Loading DataFrames\n",
        "This dataset is a subset of the [FinCEN Files](https://www.icij.org/investigations/fincen-files/explore-the-fincen-files-data/) data.\n"
      ]
    },
    {
      "cell_type": "code",
      "metadata": {
        "id": "NKgn5JP_3p_s"
      },
      "source": [
        "bank_connections = pd.read_csv(\"/content/finsec/bank_connections.csv\", sep=\",\")\n",
        "transactions = pd.read_csv(\"/content/finsec/transactions_map.csv\", sep=\",\")\n",
        "country_stats = pd.read_csv(\"/content/finsec/country_data.csv\", sep=\",\")\n",
        "\n",
        "# CLEAN UP DATETIME FORMATING\n",
        "# Cleaning up begin date in transactions dataframe\n",
        "Ids = []\n",
        "Values =[]\n",
        "for items in transactions['begin_date'].iteritems():\n",
        "     temp = list(items)\n",
        "     try:\n",
        "               temp[1] = str(dateparser.parse(temp[1]).date())\n",
        "     except: \n",
        "               temp[1] = \"\"\n",
        "     Ids.append(temp[0])\n",
        "     Values.append(temp[1])\n",
        "\n",
        "Res = pd.Series(Values, index=Ids)\n",
        "transactions['begin_date'] = Res\n",
        "\n",
        "# Cleaning up end date in transactions dataframe\n",
        "Ids2 = []\n",
        "Values2 =[]\n",
        "for items2 in transactions['end_date'].iteritems():\n",
        "     temp2 = list(items2)\n",
        "     try:\n",
        "               temp2[1] = str(dateparser.parse(temp2[1]).date())\n",
        "     except: \n",
        "               temp2[1] = \"\"\n",
        "     Ids2.append(temp2[0])\n",
        "     Values2.append(temp2[1])\n",
        "\n",
        "Res2 = pd.Series(Values2, index=Ids2)\n",
        "transactions['end_date'] = Res2\n",
        "\n",
        "# CLEAN TRANSACTIONS NA\n",
        "transactions.fillna(float(0), inplace=True)\n",
        "\n",
        "# CLEAN COUNTRY NA\n",
        "country_stats.fillna(float(0), inplace=True)"
      ],
      "execution_count": null,
      "outputs": []
    },
    {
      "cell_type": "code",
      "metadata": {
        "id": "nMUorSW_4FZg"
      },
      "source": [
        "# TEST TRANSACTIONS DATAFRAME\n",
        "transactions.head()"
      ],
      "execution_count": null,
      "outputs": []
    },
    {
      "cell_type": "code",
      "metadata": {
        "id": "rZXD37S74NAn"
      },
      "source": [
        "# TEST BANK CONNECTIONS DATAFRAME\n",
        "bank_connections.head()"
      ],
      "execution_count": null,
      "outputs": []
    },
    {
      "cell_type": "code",
      "metadata": {
        "id": "LSnfPgwz_HM0"
      },
      "source": [
        "# TEST COUNTRY STATS DATAFRAME\n",
        "country_stats.head()"
      ],
      "execution_count": null,
      "outputs": []
    },
    {
      "cell_type": "markdown",
      "metadata": {
        "id": "ByiP0h_9Dd3P"
      },
      "source": [
        "## Create Graph"
      ]
    },
    {
      "cell_type": "markdown",
      "metadata": {
        "id": "S-7uvTeDvQ1F"
      },
      "source": [
        "### Create Global Vertex and Edges"
      ]
    },
    {
      "cell_type": "code",
      "metadata": {
        "id": "EcSSDtPe8ekX"
      },
      "source": [
        "# DEFINE / CREATE ALL EDGES AND VERTEX \n",
        "print(conn.gsql('''CREATE VERTEX Organization (PRIMARY_ID organization_id STRING , name STRING) WITH primary_id_as_attribute=\"true\"''', options=[]))\n",
        "print(conn.gsql('''CREATE VERTEX Filing (PRIMARY_ID filing_id UINT, idicij_sar_id UINT, transaction_count FLOAT, transaction_amount FLOAT) WITH primary_id_as_attribute=\"true\"''', options=[]))\n",
        "print(conn.gsql('''CREATE VERTEX Country (PRIMARY_ID name STRING , iso STRING, latitude DOUBLE, longitude DOUBLE, population FLOAT, growth_rate FLOAT, area FLOAT, density FLOAT) WITH primary_id_as_attribute=\"true\"''', options=[]))\n",
        "print(conn.gsql('''CREATE DIRECTED EDGE FILED (FROM Organization, TO Filing, begin_date STRING, end_date STRING) WITH REVERSE_EDGE=\"REVERSE_FILING\"''', options=[]))\n",
        "print(conn.gsql('''CREATE DIRECTED EDGE BENEFICIARY (FROM Filing, TO Organization) WITH REVERSE_EDGE=\"REVERSE_BENEFICIARY\"''', options=[]))\n",
        "print(conn.gsql('''CREATE DIRECTED EDGE ORIGINATOR (FROM Organization, TO Filing) WITH REVERSE_EDGE=\"REVERESE_ORIGINATOR\"''', options=[]))\n",
        "print(conn.gsql('''CREATE UNDIRECTED EDGE LOCATED (FROM Country, TO Organization)''', options=[]))\n"
      ],
      "execution_count": null,
      "outputs": []
    },
    {
      "cell_type": "markdown",
      "metadata": {
        "id": "5mIhQC-zD0ro"
      },
      "source": [
        "### Create FinCEN Graph"
      ]
    },
    {
      "cell_type": "code",
      "metadata": {
        "id": "f6SUNbWO9doi"
      },
      "source": [
        "# CREATE GRAPH \"fincen\"\n",
        "print(conn.gsql('''CREATE GRAPH fincen(Organization, Filing, Country, FILED, BENEFICIARY, ORIGINATOR, LOCATED, REVERSE_FILING, REVERSE_BENEFICIARY, REVERESE_ORIGINATOR)''', options=[]))"
      ],
      "execution_count": null,
      "outputs": []
    },
    {
      "cell_type": "code",
      "metadata": {
        "id": "Q3DJFG6GKetZ"
      },
      "source": [
        "# TEST TO SEE IF GRAPH SCHEMA BUILT\n",
        "print(conn.gsql('''LS''', options=[]))"
      ],
      "execution_count": null,
      "outputs": []
    },
    {
      "cell_type": "markdown",
      "metadata": {
        "id": "NmRHewPEv-Oi"
      },
      "source": [
        "### Set New Graph Parameters"
      ]
    },
    {
      "cell_type": "code",
      "metadata": {
        "id": "VDI-VBoRE2c-"
      },
      "source": [
        "# SET NEW GRAPH PARAMS\n",
        "conn.graphname = \"fincen\"\n",
        "conn.apiToken = conn.getToken(conn.createSecret())"
      ],
      "execution_count": null,
      "outputs": []
    },
    {
      "cell_type": "markdown",
      "metadata": {
        "id": "jslm5hHlEscU"
      },
      "source": [
        "## Load Data"
      ]
    },
    {
      "cell_type": "code",
      "metadata": {
        "id": "2Z0M3qQDSAhB"
      },
      "source": [
        "# UPSERT VERTEX \"Organization\"\n",
        "v_entity = conn.upsertVertexDataFrame(bank_connections, \"Organization\", \"entity_b_id\", attributes={\"organization_id\": \"entity_b_id\", \"name\": \"entity_b\"})\n",
        "v_filer = conn.upsertVertexDataFrame(bank_connections, \"Organization\", \"filer_org_name_id\", attributes={\"organization_id\": \"filer_org_name_id\", \"name\": \"filer_org_name\"})\n",
        "print(str(v_entity+v_filer) + \" Organization VERTEX Upserted\")\n",
        "\n",
        "# UPSERT VERTEX \"Filing\"\n",
        "v_filing = conn.upsertVertexDataFrame(transactions, \"Filing\", \"id\", attributes={\"filing_id\": \"id\", \"idicij_sar_id\": \"icij_sar_id\", \"transaction_count\": \"number_transactions\", \"transaction_amount\": \"amount_transactions\"})\n",
        "print(str(v_filing) + \" Filing VERTEX Upserted\")\n",
        "\n",
        "# UPSERT VERTEX \"Country\"\n",
        "v_country = conn.upsertVertexDataFrame(country_stats, \"Country\", \"name\", attributes={\"name\": \"name\", \"latitude\": \"latitude\", \"longitude\": \"longitude\", \"population\": \"pop2019\", \"growth_rate\": \"GrowthRate\", \"area\": \"area\", \"density\": \"Density\"})\n",
        "print(str(v_country) + \" Country VERTEX Upserted\")\n",
        "\n",
        "# UPSERT EDGE \"LOCATED\"\n",
        "e_origin_loc = conn.upsertEdgeDataFrame(transactions, \"Country\", \"LOCATED\", \"Organization\", from_id=\"originator_bank_country\", to_id=\"originator_bank_id\", attributes={})\n",
        "e_benificiary_loc = conn.upsertEdgeDataFrame(transactions, \"Country\", \"LOCATED\", \"Organization\", from_id=\"beneficiary_bank_country\", to_id=\"beneficiary_bank_id\", attributes={})\n",
        "print(str(e_origin_loc+e_benificiary_loc) + \" LOCATED EDGES Upserted\")\n",
        "\n",
        "# UPSERT EDGE \"BENEFICIARY\"\n",
        "e_benificiary = conn.upsertEdgeDataFrame(transactions, \"Filing\", \"BENEFICIARY\", \"Organization\", from_id=\"id\", to_id=\"beneficiary_bank_id\", attributes={})\n",
        "print(str(e_benificiary) + \" BENEFICIARY EDGES Upserted\")\n",
        "\n",
        "# UPSERT EDGE \"ORIGINATOR\"\n",
        "e_originator = conn.upsertEdgeDataFrame(transactions, \"Organization\", \"ORIGINATOR\", \"Filing\", from_id=\"originator_bank_id\", to_id=\"id\", attributes={})\n",
        "print(str(e_originator) + \" ORIGINATOR EDGES Upserted\")\n",
        "\n",
        "# UPSERT EDGE \"FILED\"\n",
        "e_filed = conn.upsertEdgeDataFrame(transactions, \"Organization\", \"FILED\", \"Filing\", from_id=\"filer_org_name_id\", to_id=\"id\", attributes={\"begin_date\": \"begin_date\", \"end_date\": \"end_date\"})\n",
        "print(str(e_filed) + \" ORIGINATOR EDGES Upserted\")\n",
        "\n",
        "# PRINT OUT STATS\n",
        "print(\"=====TOTAL_UPSERTS=====\")\n",
        "print(str(v_entity+v_filer+v_filing+v_country) + \" TOTAL VERTICES\")\n",
        "print(str(e_origin_loc+e_benificiary_loc+e_benificiary+e_originator+e_filed) + \" TOTAL EDGES\")\n"
      ],
      "execution_count": null,
      "outputs": []
    },
    {
      "cell_type": "markdown",
      "metadata": {
        "id": "f318RDSnvwgn"
      },
      "source": [
        "## Extract Features for Machine Learning"
      ]
    },
    {
      "cell_type": "code",
      "metadata": {
        "id": "2f_Pm32YTdZn"
      },
      "source": [
        "# RUN QUERY TO EXTRACT FEATURES\n",
        "print(conn.runInterpretedQuery('''\n",
        "INTERPRET QUERY () FOR GRAPH fincen { \n",
        "  SumAccum<FLOAT> @totalTransactionAmount;\n",
        "  MaxAccum<FLOAT> @maxTransaction;\n",
        "  MinAccum<FLOAT> @minTransaction;\n",
        "  SumAccum<INT> @cntFiled;\n",
        "  \n",
        "  seed = {Organization.*};\n",
        "  \n",
        "  S1 = SELECT s \n",
        "       FROM seed:s-(FILED:e)->Filing:tgt\n",
        "       ACCUM s.@cntFiled += 1,\n",
        "             s.@totalTransactionAmount += tgt.transaction_amount,\n",
        "             s.@maxTransaction += tgt.transaction_amount,\n",
        "             s.@minTransaction += tgt.transaction_amount;\n",
        "\n",
        "  PRINT S1[\n",
        "            S1.@cntFiled AS Filing_Count,\n",
        "            S1.@totalTransactionAmount AS Total_Transaction_Amount,\n",
        "            S1.@maxTransaction AS Max_Transaction,\n",
        "            S1.@minTransaction AS MinTransaction\n",
        "          ]; \n",
        "}\n",
        "'''))"
      ],
      "execution_count": null,
      "outputs": []
    },
    {
      "cell_type": "markdown",
      "metadata": {
        "id": "N626ucFZZKd-"
      },
      "source": [
        "# WARNING: DROP ALL - Will Delete everything in your graph!\n",
        "Use this if you would like to start the notebook lab from the beginning."
      ]
    },
    {
      "cell_type": "code",
      "metadata": {
        "id": "iTqRBWF_Y-R_"
      },
      "source": [
        "#print(conn.gsql('''DROP ALL''', options=[]))"
      ],
      "execution_count": null,
      "outputs": []
    }
  ]
}